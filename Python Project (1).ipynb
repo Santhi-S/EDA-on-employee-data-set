{
 "cells": [
  {
   "cell_type": "markdown",
   "id": "11a43585-3489-4582-a7ff-cda3c330925d",
   "metadata": {},
   "source": [
    "## Exploratory Data Analysis on Employee Dataset "
   ]
  },
  {
   "cell_type": "markdown",
   "id": "5ead9208-7b61-41f3-ae5d-6f2e07a6384b",
   "metadata": {},
   "source": [
    "### An employee dataset is provided which contains the details of employees like name, team, number, position, age, height, weight, college and salary. Each employee is associated with a team and position. The height column has wrong values. Values from 150 to 180 inches have to be entered. Insights have to be obtained from the data after analysis."
   ]
  },
  {
   "cell_type": "markdown",
   "id": "598255f8-b69f-4107-9907-a0f6284e4acf",
   "metadata": {},
   "source": [
    "### 1. Import the necessary modules"
   ]
  },
  {
   "cell_type": "code",
   "execution_count": 29,
   "id": "706ecffa-b191-4975-b7ec-52fe07e8c65b",
   "metadata": {},
   "outputs": [],
   "source": [
    "import numpy as np\n",
    "import pandas as pd\n",
    "from matplotlib import pyplot as plt\n",
    "import seaborn as sns"
   ]
  },
  {
   "cell_type": "markdown",
   "id": "7f3b578c-7512-44ab-ad2e-7e3a1bb6005b",
   "metadata": {},
   "source": [
    "### 2. Reading the dataset"
   ]
  },
  {
   "cell_type": "code",
   "execution_count": 30,
   "id": "d6889df8-08ce-4ddc-971d-85e53acacad0",
   "metadata": {},
   "outputs": [
    {
     "data": {
      "text/html": [
       "<div>\n",
       "<style scoped>\n",
       "    .dataframe tbody tr th:only-of-type {\n",
       "        vertical-align: middle;\n",
       "    }\n",
       "\n",
       "    .dataframe tbody tr th {\n",
       "        vertical-align: top;\n",
       "    }\n",
       "\n",
       "    .dataframe thead th {\n",
       "        text-align: right;\n",
       "    }\n",
       "</style>\n",
       "<table border=\"1\" class=\"dataframe\">\n",
       "  <thead>\n",
       "    <tr style=\"text-align: right;\">\n",
       "      <th></th>\n",
       "      <th>Name</th>\n",
       "      <th>Team</th>\n",
       "      <th>Number</th>\n",
       "      <th>Position</th>\n",
       "      <th>Age</th>\n",
       "      <th>Height</th>\n",
       "      <th>Weight</th>\n",
       "      <th>College</th>\n",
       "      <th>Salary</th>\n",
       "    </tr>\n",
       "  </thead>\n",
       "  <tbody>\n",
       "    <tr>\n",
       "      <th>0</th>\n",
       "      <td>Avery Bradley</td>\n",
       "      <td>Boston Celtics</td>\n",
       "      <td>0</td>\n",
       "      <td>PG</td>\n",
       "      <td>25</td>\n",
       "      <td>06-Feb</td>\n",
       "      <td>180</td>\n",
       "      <td>Texas</td>\n",
       "      <td>7730337.0</td>\n",
       "    </tr>\n",
       "    <tr>\n",
       "      <th>1</th>\n",
       "      <td>Jae Crowder</td>\n",
       "      <td>Boston Celtics</td>\n",
       "      <td>99</td>\n",
       "      <td>SF</td>\n",
       "      <td>25</td>\n",
       "      <td>06-Jun</td>\n",
       "      <td>235</td>\n",
       "      <td>Marquette</td>\n",
       "      <td>6796117.0</td>\n",
       "    </tr>\n",
       "    <tr>\n",
       "      <th>2</th>\n",
       "      <td>John Holland</td>\n",
       "      <td>Boston Celtics</td>\n",
       "      <td>30</td>\n",
       "      <td>SG</td>\n",
       "      <td>27</td>\n",
       "      <td>06-May</td>\n",
       "      <td>205</td>\n",
       "      <td>Boston University</td>\n",
       "      <td>NaN</td>\n",
       "    </tr>\n",
       "    <tr>\n",
       "      <th>3</th>\n",
       "      <td>R.J. Hunter</td>\n",
       "      <td>Boston Celtics</td>\n",
       "      <td>28</td>\n",
       "      <td>SG</td>\n",
       "      <td>22</td>\n",
       "      <td>06-May</td>\n",
       "      <td>185</td>\n",
       "      <td>Georgia State</td>\n",
       "      <td>1148640.0</td>\n",
       "    </tr>\n",
       "    <tr>\n",
       "      <th>4</th>\n",
       "      <td>Jonas Jerebko</td>\n",
       "      <td>Boston Celtics</td>\n",
       "      <td>8</td>\n",
       "      <td>PF</td>\n",
       "      <td>29</td>\n",
       "      <td>06-Oct</td>\n",
       "      <td>231</td>\n",
       "      <td>NaN</td>\n",
       "      <td>5000000.0</td>\n",
       "    </tr>\n",
       "    <tr>\n",
       "      <th>...</th>\n",
       "      <td>...</td>\n",
       "      <td>...</td>\n",
       "      <td>...</td>\n",
       "      <td>...</td>\n",
       "      <td>...</td>\n",
       "      <td>...</td>\n",
       "      <td>...</td>\n",
       "      <td>...</td>\n",
       "      <td>...</td>\n",
       "    </tr>\n",
       "    <tr>\n",
       "      <th>453</th>\n",
       "      <td>Shelvin Mack</td>\n",
       "      <td>Utah Jazz</td>\n",
       "      <td>8</td>\n",
       "      <td>PG</td>\n",
       "      <td>26</td>\n",
       "      <td>06-Mar</td>\n",
       "      <td>203</td>\n",
       "      <td>Butler</td>\n",
       "      <td>2433333.0</td>\n",
       "    </tr>\n",
       "    <tr>\n",
       "      <th>454</th>\n",
       "      <td>Raul Neto</td>\n",
       "      <td>Utah Jazz</td>\n",
       "      <td>25</td>\n",
       "      <td>PG</td>\n",
       "      <td>24</td>\n",
       "      <td>06-Jan</td>\n",
       "      <td>179</td>\n",
       "      <td>NaN</td>\n",
       "      <td>900000.0</td>\n",
       "    </tr>\n",
       "    <tr>\n",
       "      <th>455</th>\n",
       "      <td>Tibor Pleiss</td>\n",
       "      <td>Utah Jazz</td>\n",
       "      <td>21</td>\n",
       "      <td>C</td>\n",
       "      <td>26</td>\n",
       "      <td>07-Mar</td>\n",
       "      <td>256</td>\n",
       "      <td>NaN</td>\n",
       "      <td>2900000.0</td>\n",
       "    </tr>\n",
       "    <tr>\n",
       "      <th>456</th>\n",
       "      <td>Jeff Withey</td>\n",
       "      <td>Utah Jazz</td>\n",
       "      <td>24</td>\n",
       "      <td>C</td>\n",
       "      <td>26</td>\n",
       "      <td>7-0</td>\n",
       "      <td>231</td>\n",
       "      <td>Kansas</td>\n",
       "      <td>947276.0</td>\n",
       "    </tr>\n",
       "    <tr>\n",
       "      <th>457</th>\n",
       "      <td>Priyanka</td>\n",
       "      <td>Utah Jazz</td>\n",
       "      <td>34</td>\n",
       "      <td>C</td>\n",
       "      <td>25</td>\n",
       "      <td>07-Mar</td>\n",
       "      <td>231</td>\n",
       "      <td>Kansas</td>\n",
       "      <td>947276.0</td>\n",
       "    </tr>\n",
       "  </tbody>\n",
       "</table>\n",
       "<p>458 rows × 9 columns</p>\n",
       "</div>"
      ],
      "text/plain": [
       "              Name            Team  Number Position  Age  Height  Weight  \\\n",
       "0    Avery Bradley  Boston Celtics       0       PG   25  06-Feb     180   \n",
       "1      Jae Crowder  Boston Celtics      99       SF   25  06-Jun     235   \n",
       "2     John Holland  Boston Celtics      30       SG   27  06-May     205   \n",
       "3      R.J. Hunter  Boston Celtics      28       SG   22  06-May     185   \n",
       "4    Jonas Jerebko  Boston Celtics       8       PF   29  06-Oct     231   \n",
       "..             ...             ...     ...      ...  ...     ...     ...   \n",
       "453   Shelvin Mack       Utah Jazz       8       PG   26  06-Mar     203   \n",
       "454      Raul Neto       Utah Jazz      25       PG   24  06-Jan     179   \n",
       "455   Tibor Pleiss       Utah Jazz      21        C   26  07-Mar     256   \n",
       "456    Jeff Withey       Utah Jazz      24        C   26     7-0     231   \n",
       "457       Priyanka       Utah Jazz      34        C   25  07-Mar     231   \n",
       "\n",
       "               College     Salary  \n",
       "0                Texas  7730337.0  \n",
       "1            Marquette  6796117.0  \n",
       "2    Boston University        NaN  \n",
       "3        Georgia State  1148640.0  \n",
       "4                  NaN  5000000.0  \n",
       "..                 ...        ...  \n",
       "453             Butler  2433333.0  \n",
       "454                NaN   900000.0  \n",
       "455                NaN  2900000.0  \n",
       "456             Kansas   947276.0  \n",
       "457             Kansas   947276.0  \n",
       "\n",
       "[458 rows x 9 columns]"
      ]
     },
     "execution_count": 30,
     "metadata": {},
     "output_type": "execute_result"
    }
   ],
   "source": [
    "df=pd.read_csv(\"Employees.csv\")\n",
    "df"
   ]
  },
  {
   "cell_type": "markdown",
   "id": "7a44d2bd-cc61-49ca-8c98-cb92e145164a",
   "metadata": {},
   "source": [
    "### 3. Obtaining basic information from dataset"
   ]
  },
  {
   "cell_type": "code",
   "execution_count": 31,
   "id": "b9cdcad1-9514-4ff8-9088-07e239b3a605",
   "metadata": {},
   "outputs": [
    {
     "data": {
      "text/plain": [
       "Index(['Name', 'Team', 'Number', 'Position', 'Age', 'Height', 'Weight',\n",
       "       'College', 'Salary'],\n",
       "      dtype='object')"
      ]
     },
     "execution_count": 31,
     "metadata": {},
     "output_type": "execute_result"
    }
   ],
   "source": [
    "df.columns"
   ]
  },
  {
   "cell_type": "code",
   "execution_count": 32,
   "id": "8dd6ae12-f927-4b24-ae3a-774e77f51da9",
   "metadata": {},
   "outputs": [
    {
     "data": {
      "text/plain": [
       "RangeIndex(start=0, stop=458, step=1)"
      ]
     },
     "execution_count": 32,
     "metadata": {},
     "output_type": "execute_result"
    }
   ],
   "source": [
    "df.index"
   ]
  },
  {
   "cell_type": "code",
   "execution_count": 5,
   "id": "d015e39b-3947-49dc-8a33-2a1c6e7fb389",
   "metadata": {},
   "outputs": [
    {
     "name": "stdout",
     "output_type": "stream",
     "text": [
      "<class 'pandas.core.frame.DataFrame'>\n",
      "RangeIndex: 458 entries, 0 to 457\n",
      "Data columns (total 9 columns):\n",
      " #   Column    Non-Null Count  Dtype  \n",
      "---  ------    --------------  -----  \n",
      " 0   Name      458 non-null    object \n",
      " 1   Team      458 non-null    object \n",
      " 2   Number    458 non-null    int64  \n",
      " 3   Position  458 non-null    object \n",
      " 4   Age       458 non-null    int64  \n",
      " 5   Height    458 non-null    object \n",
      " 6   Weight    458 non-null    int64  \n",
      " 7   College   374 non-null    object \n",
      " 8   Salary    447 non-null    float64\n",
      "dtypes: float64(1), int64(3), object(5)\n",
      "memory usage: 32.3+ KB\n"
     ]
    }
   ],
   "source": [
    "df.info()"
   ]
  },
  {
   "cell_type": "markdown",
   "id": "3efff8b3-35bb-4275-a70f-2cddf6340967",
   "metadata": {},
   "source": [
    "##### Salary and College has null values"
   ]
  },
  {
   "cell_type": "code",
   "execution_count": 33,
   "id": "458acd6c-7b3a-4fb6-868c-ffd3fe4a07fc",
   "metadata": {},
   "outputs": [
    {
     "data": {
      "text/html": [
       "<div>\n",
       "<style scoped>\n",
       "    .dataframe tbody tr th:only-of-type {\n",
       "        vertical-align: middle;\n",
       "    }\n",
       "\n",
       "    .dataframe tbody tr th {\n",
       "        vertical-align: top;\n",
       "    }\n",
       "\n",
       "    .dataframe thead th {\n",
       "        text-align: right;\n",
       "    }\n",
       "</style>\n",
       "<table border=\"1\" class=\"dataframe\">\n",
       "  <thead>\n",
       "    <tr style=\"text-align: right;\">\n",
       "      <th></th>\n",
       "      <th>Name</th>\n",
       "      <th>Team</th>\n",
       "      <th>Number</th>\n",
       "      <th>Position</th>\n",
       "      <th>Age</th>\n",
       "      <th>Height</th>\n",
       "      <th>Weight</th>\n",
       "      <th>College</th>\n",
       "      <th>Salary</th>\n",
       "    </tr>\n",
       "  </thead>\n",
       "  <tbody>\n",
       "    <tr>\n",
       "      <th>0</th>\n",
       "      <td>Avery Bradley</td>\n",
       "      <td>Boston Celtics</td>\n",
       "      <td>0</td>\n",
       "      <td>PG</td>\n",
       "      <td>25</td>\n",
       "      <td>06-Feb</td>\n",
       "      <td>180</td>\n",
       "      <td>Texas</td>\n",
       "      <td>7730337.0</td>\n",
       "    </tr>\n",
       "    <tr>\n",
       "      <th>1</th>\n",
       "      <td>Jae Crowder</td>\n",
       "      <td>Boston Celtics</td>\n",
       "      <td>99</td>\n",
       "      <td>SF</td>\n",
       "      <td>25</td>\n",
       "      <td>06-Jun</td>\n",
       "      <td>235</td>\n",
       "      <td>Marquette</td>\n",
       "      <td>6796117.0</td>\n",
       "    </tr>\n",
       "    <tr>\n",
       "      <th>2</th>\n",
       "      <td>John Holland</td>\n",
       "      <td>Boston Celtics</td>\n",
       "      <td>30</td>\n",
       "      <td>SG</td>\n",
       "      <td>27</td>\n",
       "      <td>06-May</td>\n",
       "      <td>205</td>\n",
       "      <td>Boston University</td>\n",
       "      <td>NaN</td>\n",
       "    </tr>\n",
       "    <tr>\n",
       "      <th>3</th>\n",
       "      <td>R.J. Hunter</td>\n",
       "      <td>Boston Celtics</td>\n",
       "      <td>28</td>\n",
       "      <td>SG</td>\n",
       "      <td>22</td>\n",
       "      <td>06-May</td>\n",
       "      <td>185</td>\n",
       "      <td>Georgia State</td>\n",
       "      <td>1148640.0</td>\n",
       "    </tr>\n",
       "    <tr>\n",
       "      <th>4</th>\n",
       "      <td>Jonas Jerebko</td>\n",
       "      <td>Boston Celtics</td>\n",
       "      <td>8</td>\n",
       "      <td>PF</td>\n",
       "      <td>29</td>\n",
       "      <td>06-Oct</td>\n",
       "      <td>231</td>\n",
       "      <td>NaN</td>\n",
       "      <td>5000000.0</td>\n",
       "    </tr>\n",
       "  </tbody>\n",
       "</table>\n",
       "</div>"
      ],
      "text/plain": [
       "            Name            Team  Number Position  Age  Height  Weight  \\\n",
       "0  Avery Bradley  Boston Celtics       0       PG   25  06-Feb     180   \n",
       "1    Jae Crowder  Boston Celtics      99       SF   25  06-Jun     235   \n",
       "2   John Holland  Boston Celtics      30       SG   27  06-May     205   \n",
       "3    R.J. Hunter  Boston Celtics      28       SG   22  06-May     185   \n",
       "4  Jonas Jerebko  Boston Celtics       8       PF   29  06-Oct     231   \n",
       "\n",
       "             College     Salary  \n",
       "0              Texas  7730337.0  \n",
       "1          Marquette  6796117.0  \n",
       "2  Boston University        NaN  \n",
       "3      Georgia State  1148640.0  \n",
       "4                NaN  5000000.0  "
      ]
     },
     "execution_count": 33,
     "metadata": {},
     "output_type": "execute_result"
    }
   ],
   "source": [
    "df.head()"
   ]
  },
  {
   "cell_type": "code",
   "execution_count": 34,
   "id": "e7c2ac81-ef09-471b-8981-f39d71775071",
   "metadata": {},
   "outputs": [
    {
     "data": {
      "text/html": [
       "<div>\n",
       "<style scoped>\n",
       "    .dataframe tbody tr th:only-of-type {\n",
       "        vertical-align: middle;\n",
       "    }\n",
       "\n",
       "    .dataframe tbody tr th {\n",
       "        vertical-align: top;\n",
       "    }\n",
       "\n",
       "    .dataframe thead th {\n",
       "        text-align: right;\n",
       "    }\n",
       "</style>\n",
       "<table border=\"1\" class=\"dataframe\">\n",
       "  <thead>\n",
       "    <tr style=\"text-align: right;\">\n",
       "      <th></th>\n",
       "      <th>Name</th>\n",
       "      <th>Team</th>\n",
       "      <th>Number</th>\n",
       "      <th>Position</th>\n",
       "      <th>Age</th>\n",
       "      <th>Height</th>\n",
       "      <th>Weight</th>\n",
       "      <th>College</th>\n",
       "      <th>Salary</th>\n",
       "    </tr>\n",
       "  </thead>\n",
       "  <tbody>\n",
       "    <tr>\n",
       "      <th>453</th>\n",
       "      <td>Shelvin Mack</td>\n",
       "      <td>Utah Jazz</td>\n",
       "      <td>8</td>\n",
       "      <td>PG</td>\n",
       "      <td>26</td>\n",
       "      <td>06-Mar</td>\n",
       "      <td>203</td>\n",
       "      <td>Butler</td>\n",
       "      <td>2433333.0</td>\n",
       "    </tr>\n",
       "    <tr>\n",
       "      <th>454</th>\n",
       "      <td>Raul Neto</td>\n",
       "      <td>Utah Jazz</td>\n",
       "      <td>25</td>\n",
       "      <td>PG</td>\n",
       "      <td>24</td>\n",
       "      <td>06-Jan</td>\n",
       "      <td>179</td>\n",
       "      <td>NaN</td>\n",
       "      <td>900000.0</td>\n",
       "    </tr>\n",
       "    <tr>\n",
       "      <th>455</th>\n",
       "      <td>Tibor Pleiss</td>\n",
       "      <td>Utah Jazz</td>\n",
       "      <td>21</td>\n",
       "      <td>C</td>\n",
       "      <td>26</td>\n",
       "      <td>07-Mar</td>\n",
       "      <td>256</td>\n",
       "      <td>NaN</td>\n",
       "      <td>2900000.0</td>\n",
       "    </tr>\n",
       "    <tr>\n",
       "      <th>456</th>\n",
       "      <td>Jeff Withey</td>\n",
       "      <td>Utah Jazz</td>\n",
       "      <td>24</td>\n",
       "      <td>C</td>\n",
       "      <td>26</td>\n",
       "      <td>7-0</td>\n",
       "      <td>231</td>\n",
       "      <td>Kansas</td>\n",
       "      <td>947276.0</td>\n",
       "    </tr>\n",
       "    <tr>\n",
       "      <th>457</th>\n",
       "      <td>Priyanka</td>\n",
       "      <td>Utah Jazz</td>\n",
       "      <td>34</td>\n",
       "      <td>C</td>\n",
       "      <td>25</td>\n",
       "      <td>07-Mar</td>\n",
       "      <td>231</td>\n",
       "      <td>Kansas</td>\n",
       "      <td>947276.0</td>\n",
       "    </tr>\n",
       "  </tbody>\n",
       "</table>\n",
       "</div>"
      ],
      "text/plain": [
       "             Name       Team  Number Position  Age  Height  Weight College  \\\n",
       "453  Shelvin Mack  Utah Jazz       8       PG   26  06-Mar     203  Butler   \n",
       "454     Raul Neto  Utah Jazz      25       PG   24  06-Jan     179     NaN   \n",
       "455  Tibor Pleiss  Utah Jazz      21        C   26  07-Mar     256     NaN   \n",
       "456   Jeff Withey  Utah Jazz      24        C   26     7-0     231  Kansas   \n",
       "457      Priyanka  Utah Jazz      34        C   25  07-Mar     231  Kansas   \n",
       "\n",
       "        Salary  \n",
       "453  2433333.0  \n",
       "454   900000.0  \n",
       "455  2900000.0  \n",
       "456   947276.0  \n",
       "457   947276.0  "
      ]
     },
     "execution_count": 34,
     "metadata": {},
     "output_type": "execute_result"
    }
   ],
   "source": [
    "df.tail()"
   ]
  },
  {
   "cell_type": "markdown",
   "id": "c0b5f6c9-56e3-45e1-bb19-64344b2864f0",
   "metadata": {},
   "source": [
    "### 4. Data cleaning and analysis"
   ]
  },
  {
   "cell_type": "code",
   "execution_count": 10,
   "id": "45e994b3-3d0a-4832-9e8a-6cfb51f4d2bc",
   "metadata": {},
   "outputs": [
    {
     "data": {
      "text/plain": [
       "Name         0\n",
       "Team         0\n",
       "Number       0\n",
       "Position     0\n",
       "Age          0\n",
       "Height       0\n",
       "Weight       0\n",
       "College     84\n",
       "Salary      11\n",
       "dtype: int64"
      ]
     },
     "execution_count": 10,
     "metadata": {},
     "output_type": "execute_result"
    }
   ],
   "source": [
    "df.isnull().sum()"
   ]
  },
  {
   "cell_type": "code",
   "execution_count": 11,
   "id": "818338da-25b6-4288-95c4-35ef93919444",
   "metadata": {},
   "outputs": [
    {
     "data": {
      "text/plain": [
       "0"
      ]
     },
     "execution_count": 11,
     "metadata": {},
     "output_type": "execute_result"
    }
   ],
   "source": [
    "df.duplicated().sum()"
   ]
  },
  {
   "cell_type": "markdown",
   "id": "6d984306-9a54-4c97-bbe1-c4b427d511f6",
   "metadata": {},
   "source": [
    "##### Wrong values in height column"
   ]
  },
  {
   "cell_type": "code",
   "execution_count": 12,
   "id": "ec4e4ad0-6f68-44e5-b2d7-2b69dba21753",
   "metadata": {},
   "outputs": [
    {
     "data": {
      "text/plain": [
       "0    06-Feb\n",
       "1    06-Jun\n",
       "2    06-May\n",
       "3    06-May\n",
       "4    06-Oct\n",
       "Name: Height, dtype: object"
      ]
     },
     "execution_count": 12,
     "metadata": {},
     "output_type": "execute_result"
    }
   ],
   "source": [
    "df[\"Height\"].head()"
   ]
  },
  {
   "cell_type": "code",
   "execution_count": 14,
   "id": "996aa163-086d-4d91-a4fa-4313f2f03aeb",
   "metadata": {},
   "outputs": [
    {
     "data": {
      "text/plain": [
       "453    06-Mar\n",
       "454    06-Jan\n",
       "455    07-Mar\n",
       "456       7-0\n",
       "457    07-Mar\n",
       "Name: Height, dtype: object"
      ]
     },
     "execution_count": 14,
     "metadata": {},
     "output_type": "execute_result"
    }
   ],
   "source": [
    "df[\"Height\"].tail()"
   ]
  },
  {
   "cell_type": "code",
   "execution_count": 6,
   "id": "8fe08a8d-f446-486b-8d25-846463aacb3d",
   "metadata": {},
   "outputs": [
    {
     "data": {
      "text/plain": [
       "array([152, 167, 175, 175, 164, 162, 179, 156, 164, 152, 177, 153, 172,\n",
       "       164, 159, 166, 156, 156, 170, 178, 160, 152, 160, 168, 157, 166,\n",
       "       172, 156, 170, 151, 164, 158, 171, 164, 171, 164, 157, 160, 179,\n",
       "       158, 178, 164, 174, 170, 150, 157, 172, 175, 150, 163, 164, 177,\n",
       "       160, 159, 178, 156, 157, 152, 179, 157, 173, 150, 174, 165, 158,\n",
       "       159, 171, 171, 152, 159, 154, 168, 153, 172, 174, 167, 161, 169,\n",
       "       160, 167, 177, 164, 176, 160, 176, 169, 175, 166, 164, 156, 164,\n",
       "       155, 174, 169, 176, 158, 166, 169, 172, 179, 170, 162, 162, 177,\n",
       "       158, 157, 156, 177, 161, 175, 171, 160, 173, 170, 170, 159, 158,\n",
       "       162, 173, 150, 158, 157, 156, 177, 171, 179, 160, 178, 160, 155,\n",
       "       171, 161, 160, 151, 176, 174, 150, 156, 152, 165, 167, 167, 158,\n",
       "       156, 176, 179, 154, 150, 152, 175, 168, 162, 163, 170, 157, 171,\n",
       "       162, 167, 170, 161, 177, 178, 176, 168, 157, 166, 166, 154, 162,\n",
       "       178, 175, 166, 177, 155, 155, 158, 157, 161, 155, 161, 165, 165,\n",
       "       168, 178, 178, 162, 171, 172, 162, 151, 155, 173, 150, 171, 173,\n",
       "       171, 157, 168, 163, 166, 179, 152, 173, 163, 169, 179, 171, 160,\n",
       "       168, 176, 177, 168, 170, 166, 150, 163, 158, 159, 154, 170, 154,\n",
       "       166, 167, 163, 160, 170, 162, 174, 159, 168, 166, 165, 176, 150,\n",
       "       164, 164, 171, 153, 166, 176, 171, 157, 152, 164, 179, 164, 154,\n",
       "       168, 165, 161, 169, 174, 163, 167, 161, 158, 172, 167, 169, 158,\n",
       "       178, 170, 173, 158, 164, 176, 167, 170, 158, 167, 174, 171, 157,\n",
       "       150, 157, 158, 166, 150, 177, 165, 179, 174, 169, 155, 151, 169,\n",
       "       160, 166, 159, 167, 175, 169, 162, 161, 161, 166, 155, 172, 156,\n",
       "       166, 176, 179, 173, 163, 165, 175, 163, 174, 156, 154, 178, 179,\n",
       "       156, 170, 176, 165, 157, 169, 173, 178, 172, 167, 159, 158, 154,\n",
       "       168, 167, 170, 167, 159, 176, 169, 177, 162, 179, 151, 178, 174,\n",
       "       177, 162, 168, 171, 150, 159, 175, 164, 169, 152, 173, 154, 171,\n",
       "       162, 173, 179, 156, 174, 165, 165, 154, 165, 153, 153, 160, 170,\n",
       "       152, 161, 154, 162, 164, 159, 164, 157, 159, 167, 154, 175, 178,\n",
       "       165, 169, 153, 175, 172, 154, 157, 161, 170, 175, 150, 151, 171,\n",
       "       170, 172, 162, 169, 171, 173, 179, 177, 159, 161, 160, 165, 157,\n",
       "       176, 155, 166, 160, 171, 156, 165, 163, 157, 170, 154, 153, 177,\n",
       "       150, 164, 166, 158, 174, 169, 174, 174, 159, 162, 156, 166, 150,\n",
       "       175, 164, 156, 158, 175, 163, 152, 177, 170, 168, 177, 177, 159,\n",
       "       168, 162, 156, 174, 165, 157, 173, 178, 177, 175, 153, 155, 173,\n",
       "       167, 157, 175])"
      ]
     },
     "execution_count": 6,
     "metadata": {},
     "output_type": "execute_result"
    }
   ],
   "source": [
    "new_heights=np.random.randint(150,180,458)\n",
    "new_heights"
   ]
  },
  {
   "cell_type": "code",
   "execution_count": 7,
   "id": "c627dd91-6112-4d2c-9c39-e6db6b666d00",
   "metadata": {},
   "outputs": [
    {
     "data": {
      "text/plain": [
       "458"
      ]
     },
     "execution_count": 7,
     "metadata": {},
     "output_type": "execute_result"
    }
   ],
   "source": [
    "len(new_heights)"
   ]
  },
  {
   "cell_type": "code",
   "execution_count": 8,
   "id": "260589e8-dc38-437c-8e2d-e32f98ed0ec7",
   "metadata": {},
   "outputs": [],
   "source": [
    "df[\"Height\"]=new_heights"
   ]
  },
  {
   "cell_type": "code",
   "execution_count": 9,
   "id": "4ddf6b63-c4fc-41c8-9b79-e5cc98d8843c",
   "metadata": {},
   "outputs": [
    {
     "data": {
      "text/html": [
       "<div>\n",
       "<style scoped>\n",
       "    .dataframe tbody tr th:only-of-type {\n",
       "        vertical-align: middle;\n",
       "    }\n",
       "\n",
       "    .dataframe tbody tr th {\n",
       "        vertical-align: top;\n",
       "    }\n",
       "\n",
       "    .dataframe thead th {\n",
       "        text-align: right;\n",
       "    }\n",
       "</style>\n",
       "<table border=\"1\" class=\"dataframe\">\n",
       "  <thead>\n",
       "    <tr style=\"text-align: right;\">\n",
       "      <th></th>\n",
       "      <th>Name</th>\n",
       "      <th>Team</th>\n",
       "      <th>Number</th>\n",
       "      <th>Position</th>\n",
       "      <th>Age</th>\n",
       "      <th>Height</th>\n",
       "      <th>Weight</th>\n",
       "      <th>College</th>\n",
       "      <th>Salary</th>\n",
       "    </tr>\n",
       "  </thead>\n",
       "  <tbody>\n",
       "    <tr>\n",
       "      <th>0</th>\n",
       "      <td>Avery Bradley</td>\n",
       "      <td>Boston Celtics</td>\n",
       "      <td>0</td>\n",
       "      <td>PG</td>\n",
       "      <td>25</td>\n",
       "      <td>152</td>\n",
       "      <td>180</td>\n",
       "      <td>Texas</td>\n",
       "      <td>7730337.0</td>\n",
       "    </tr>\n",
       "    <tr>\n",
       "      <th>1</th>\n",
       "      <td>Jae Crowder</td>\n",
       "      <td>Boston Celtics</td>\n",
       "      <td>99</td>\n",
       "      <td>SF</td>\n",
       "      <td>25</td>\n",
       "      <td>167</td>\n",
       "      <td>235</td>\n",
       "      <td>Marquette</td>\n",
       "      <td>6796117.0</td>\n",
       "    </tr>\n",
       "    <tr>\n",
       "      <th>2</th>\n",
       "      <td>John Holland</td>\n",
       "      <td>Boston Celtics</td>\n",
       "      <td>30</td>\n",
       "      <td>SG</td>\n",
       "      <td>27</td>\n",
       "      <td>175</td>\n",
       "      <td>205</td>\n",
       "      <td>Boston University</td>\n",
       "      <td>NaN</td>\n",
       "    </tr>\n",
       "    <tr>\n",
       "      <th>3</th>\n",
       "      <td>R.J. Hunter</td>\n",
       "      <td>Boston Celtics</td>\n",
       "      <td>28</td>\n",
       "      <td>SG</td>\n",
       "      <td>22</td>\n",
       "      <td>175</td>\n",
       "      <td>185</td>\n",
       "      <td>Georgia State</td>\n",
       "      <td>1148640.0</td>\n",
       "    </tr>\n",
       "    <tr>\n",
       "      <th>4</th>\n",
       "      <td>Jonas Jerebko</td>\n",
       "      <td>Boston Celtics</td>\n",
       "      <td>8</td>\n",
       "      <td>PF</td>\n",
       "      <td>29</td>\n",
       "      <td>164</td>\n",
       "      <td>231</td>\n",
       "      <td>NaN</td>\n",
       "      <td>5000000.0</td>\n",
       "    </tr>\n",
       "    <tr>\n",
       "      <th>...</th>\n",
       "      <td>...</td>\n",
       "      <td>...</td>\n",
       "      <td>...</td>\n",
       "      <td>...</td>\n",
       "      <td>...</td>\n",
       "      <td>...</td>\n",
       "      <td>...</td>\n",
       "      <td>...</td>\n",
       "      <td>...</td>\n",
       "    </tr>\n",
       "    <tr>\n",
       "      <th>453</th>\n",
       "      <td>Shelvin Mack</td>\n",
       "      <td>Utah Jazz</td>\n",
       "      <td>8</td>\n",
       "      <td>PG</td>\n",
       "      <td>26</td>\n",
       "      <td>155</td>\n",
       "      <td>203</td>\n",
       "      <td>Butler</td>\n",
       "      <td>2433333.0</td>\n",
       "    </tr>\n",
       "    <tr>\n",
       "      <th>454</th>\n",
       "      <td>Raul Neto</td>\n",
       "      <td>Utah Jazz</td>\n",
       "      <td>25</td>\n",
       "      <td>PG</td>\n",
       "      <td>24</td>\n",
       "      <td>173</td>\n",
       "      <td>179</td>\n",
       "      <td>NaN</td>\n",
       "      <td>900000.0</td>\n",
       "    </tr>\n",
       "    <tr>\n",
       "      <th>455</th>\n",
       "      <td>Tibor Pleiss</td>\n",
       "      <td>Utah Jazz</td>\n",
       "      <td>21</td>\n",
       "      <td>C</td>\n",
       "      <td>26</td>\n",
       "      <td>167</td>\n",
       "      <td>256</td>\n",
       "      <td>NaN</td>\n",
       "      <td>2900000.0</td>\n",
       "    </tr>\n",
       "    <tr>\n",
       "      <th>456</th>\n",
       "      <td>Jeff Withey</td>\n",
       "      <td>Utah Jazz</td>\n",
       "      <td>24</td>\n",
       "      <td>C</td>\n",
       "      <td>26</td>\n",
       "      <td>157</td>\n",
       "      <td>231</td>\n",
       "      <td>Kansas</td>\n",
       "      <td>947276.0</td>\n",
       "    </tr>\n",
       "    <tr>\n",
       "      <th>457</th>\n",
       "      <td>Priyanka</td>\n",
       "      <td>Utah Jazz</td>\n",
       "      <td>34</td>\n",
       "      <td>C</td>\n",
       "      <td>25</td>\n",
       "      <td>175</td>\n",
       "      <td>231</td>\n",
       "      <td>Kansas</td>\n",
       "      <td>947276.0</td>\n",
       "    </tr>\n",
       "  </tbody>\n",
       "</table>\n",
       "<p>458 rows × 9 columns</p>\n",
       "</div>"
      ],
      "text/plain": [
       "              Name            Team  Number Position  Age  Height  Weight  \\\n",
       "0    Avery Bradley  Boston Celtics       0       PG   25     152     180   \n",
       "1      Jae Crowder  Boston Celtics      99       SF   25     167     235   \n",
       "2     John Holland  Boston Celtics      30       SG   27     175     205   \n",
       "3      R.J. Hunter  Boston Celtics      28       SG   22     175     185   \n",
       "4    Jonas Jerebko  Boston Celtics       8       PF   29     164     231   \n",
       "..             ...             ...     ...      ...  ...     ...     ...   \n",
       "453   Shelvin Mack       Utah Jazz       8       PG   26     155     203   \n",
       "454      Raul Neto       Utah Jazz      25       PG   24     173     179   \n",
       "455   Tibor Pleiss       Utah Jazz      21        C   26     167     256   \n",
       "456    Jeff Withey       Utah Jazz      24        C   26     157     231   \n",
       "457       Priyanka       Utah Jazz      34        C   25     175     231   \n",
       "\n",
       "               College     Salary  \n",
       "0                Texas  7730337.0  \n",
       "1            Marquette  6796117.0  \n",
       "2    Boston University        NaN  \n",
       "3        Georgia State  1148640.0  \n",
       "4                  NaN  5000000.0  \n",
       "..                 ...        ...  \n",
       "453             Butler  2433333.0  \n",
       "454                NaN   900000.0  \n",
       "455                NaN  2900000.0  \n",
       "456             Kansas   947276.0  \n",
       "457             Kansas   947276.0  \n",
       "\n",
       "[458 rows x 9 columns]"
      ]
     },
     "execution_count": 9,
     "metadata": {},
     "output_type": "execute_result"
    }
   ],
   "source": [
    "df"
   ]
  },
  {
   "cell_type": "code",
   "execution_count": 13,
   "id": "fa4d9b42-bb9d-47c9-99c2-4e9035fc4147",
   "metadata": {},
   "outputs": [
    {
     "data": {
      "text/plain": [
       "0    152\n",
       "1    167\n",
       "2    175\n",
       "3    175\n",
       "4    164\n",
       "5    162\n",
       "6    179\n",
       "7    156\n",
       "8    164\n",
       "9    152\n",
       "Name: Height, dtype: int32"
      ]
     },
     "execution_count": 13,
     "metadata": {},
     "output_type": "execute_result"
    }
   ],
   "source": [
    "df[\"Height\"].head(10)"
   ]
  },
  {
   "cell_type": "code",
   "execution_count": 14,
   "id": "f5645956-92ae-4b5e-8c8b-19e0ff514e12",
   "metadata": {},
   "outputs": [
    {
     "data": {
      "text/plain": [
       "448    173\n",
       "449    178\n",
       "450    177\n",
       "451    175\n",
       "452    153\n",
       "453    155\n",
       "454    173\n",
       "455    167\n",
       "456    157\n",
       "457    175\n",
       "Name: Height, dtype: int32"
      ]
     },
     "execution_count": 14,
     "metadata": {},
     "output_type": "execute_result"
    }
   ],
   "source": [
    "df[\"Height\"].tail(10)"
   ]
  },
  {
   "cell_type": "code",
   "execution_count": 15,
   "id": "0011ac75-92a1-4698-989a-75793418c8e7",
   "metadata": {},
   "outputs": [
    {
     "data": {
      "text/html": [
       "<div>\n",
       "<style scoped>\n",
       "    .dataframe tbody tr th:only-of-type {\n",
       "        vertical-align: middle;\n",
       "    }\n",
       "\n",
       "    .dataframe tbody tr th {\n",
       "        vertical-align: top;\n",
       "    }\n",
       "\n",
       "    .dataframe thead th {\n",
       "        text-align: right;\n",
       "    }\n",
       "</style>\n",
       "<table border=\"1\" class=\"dataframe\">\n",
       "  <thead>\n",
       "    <tr style=\"text-align: right;\">\n",
       "      <th></th>\n",
       "      <th>Name</th>\n",
       "      <th>Team</th>\n",
       "      <th>Number</th>\n",
       "      <th>Position</th>\n",
       "      <th>Age</th>\n",
       "      <th>Height</th>\n",
       "      <th>Weight</th>\n",
       "      <th>College</th>\n",
       "      <th>Salary</th>\n",
       "    </tr>\n",
       "  </thead>\n",
       "  <tbody>\n",
       "    <tr>\n",
       "      <th>count</th>\n",
       "      <td>458</td>\n",
       "      <td>458</td>\n",
       "      <td>458.000000</td>\n",
       "      <td>458</td>\n",
       "      <td>458.000000</td>\n",
       "      <td>458.000000</td>\n",
       "      <td>458.000000</td>\n",
       "      <td>374</td>\n",
       "      <td>4.470000e+02</td>\n",
       "    </tr>\n",
       "    <tr>\n",
       "      <th>unique</th>\n",
       "      <td>458</td>\n",
       "      <td>30</td>\n",
       "      <td>NaN</td>\n",
       "      <td>5</td>\n",
       "      <td>NaN</td>\n",
       "      <td>NaN</td>\n",
       "      <td>NaN</td>\n",
       "      <td>118</td>\n",
       "      <td>NaN</td>\n",
       "    </tr>\n",
       "    <tr>\n",
       "      <th>top</th>\n",
       "      <td>Avery Bradley</td>\n",
       "      <td>New Orleans Pelicans</td>\n",
       "      <td>NaN</td>\n",
       "      <td>SG</td>\n",
       "      <td>NaN</td>\n",
       "      <td>NaN</td>\n",
       "      <td>NaN</td>\n",
       "      <td>Kentucky</td>\n",
       "      <td>NaN</td>\n",
       "    </tr>\n",
       "    <tr>\n",
       "      <th>freq</th>\n",
       "      <td>1</td>\n",
       "      <td>19</td>\n",
       "      <td>NaN</td>\n",
       "      <td>102</td>\n",
       "      <td>NaN</td>\n",
       "      <td>NaN</td>\n",
       "      <td>NaN</td>\n",
       "      <td>22</td>\n",
       "      <td>NaN</td>\n",
       "    </tr>\n",
       "    <tr>\n",
       "      <th>mean</th>\n",
       "      <td>NaN</td>\n",
       "      <td>NaN</td>\n",
       "      <td>17.713974</td>\n",
       "      <td>NaN</td>\n",
       "      <td>26.934498</td>\n",
       "      <td>165.104803</td>\n",
       "      <td>221.543668</td>\n",
       "      <td>NaN</td>\n",
       "      <td>4.833970e+06</td>\n",
       "    </tr>\n",
       "    <tr>\n",
       "      <th>std</th>\n",
       "      <td>NaN</td>\n",
       "      <td>NaN</td>\n",
       "      <td>15.966837</td>\n",
       "      <td>NaN</td>\n",
       "      <td>4.400128</td>\n",
       "      <td>8.266217</td>\n",
       "      <td>26.343200</td>\n",
       "      <td>NaN</td>\n",
       "      <td>5.226620e+06</td>\n",
       "    </tr>\n",
       "    <tr>\n",
       "      <th>min</th>\n",
       "      <td>NaN</td>\n",
       "      <td>NaN</td>\n",
       "      <td>0.000000</td>\n",
       "      <td>NaN</td>\n",
       "      <td>19.000000</td>\n",
       "      <td>150.000000</td>\n",
       "      <td>161.000000</td>\n",
       "      <td>NaN</td>\n",
       "      <td>3.088800e+04</td>\n",
       "    </tr>\n",
       "    <tr>\n",
       "      <th>25%</th>\n",
       "      <td>NaN</td>\n",
       "      <td>NaN</td>\n",
       "      <td>5.000000</td>\n",
       "      <td>NaN</td>\n",
       "      <td>24.000000</td>\n",
       "      <td>158.000000</td>\n",
       "      <td>200.000000</td>\n",
       "      <td>NaN</td>\n",
       "      <td>1.025210e+06</td>\n",
       "    </tr>\n",
       "    <tr>\n",
       "      <th>50%</th>\n",
       "      <td>NaN</td>\n",
       "      <td>NaN</td>\n",
       "      <td>13.000000</td>\n",
       "      <td>NaN</td>\n",
       "      <td>26.000000</td>\n",
       "      <td>165.000000</td>\n",
       "      <td>220.000000</td>\n",
       "      <td>NaN</td>\n",
       "      <td>2.836186e+06</td>\n",
       "    </tr>\n",
       "    <tr>\n",
       "      <th>75%</th>\n",
       "      <td>NaN</td>\n",
       "      <td>NaN</td>\n",
       "      <td>25.000000</td>\n",
       "      <td>NaN</td>\n",
       "      <td>30.000000</td>\n",
       "      <td>172.000000</td>\n",
       "      <td>240.000000</td>\n",
       "      <td>NaN</td>\n",
       "      <td>6.500000e+06</td>\n",
       "    </tr>\n",
       "    <tr>\n",
       "      <th>max</th>\n",
       "      <td>NaN</td>\n",
       "      <td>NaN</td>\n",
       "      <td>99.000000</td>\n",
       "      <td>NaN</td>\n",
       "      <td>40.000000</td>\n",
       "      <td>179.000000</td>\n",
       "      <td>307.000000</td>\n",
       "      <td>NaN</td>\n",
       "      <td>2.500000e+07</td>\n",
       "    </tr>\n",
       "  </tbody>\n",
       "</table>\n",
       "</div>"
      ],
      "text/plain": [
       "                 Name                  Team      Number Position         Age  \\\n",
       "count             458                   458  458.000000      458  458.000000   \n",
       "unique            458                    30         NaN        5         NaN   \n",
       "top     Avery Bradley  New Orleans Pelicans         NaN       SG         NaN   \n",
       "freq                1                    19         NaN      102         NaN   \n",
       "mean              NaN                   NaN   17.713974      NaN   26.934498   \n",
       "std               NaN                   NaN   15.966837      NaN    4.400128   \n",
       "min               NaN                   NaN    0.000000      NaN   19.000000   \n",
       "25%               NaN                   NaN    5.000000      NaN   24.000000   \n",
       "50%               NaN                   NaN   13.000000      NaN   26.000000   \n",
       "75%               NaN                   NaN   25.000000      NaN   30.000000   \n",
       "max               NaN                   NaN   99.000000      NaN   40.000000   \n",
       "\n",
       "            Height      Weight   College        Salary  \n",
       "count   458.000000  458.000000       374  4.470000e+02  \n",
       "unique         NaN         NaN       118           NaN  \n",
       "top            NaN         NaN  Kentucky           NaN  \n",
       "freq           NaN         NaN        22           NaN  \n",
       "mean    165.104803  221.543668       NaN  4.833970e+06  \n",
       "std       8.266217   26.343200       NaN  5.226620e+06  \n",
       "min     150.000000  161.000000       NaN  3.088800e+04  \n",
       "25%     158.000000  200.000000       NaN  1.025210e+06  \n",
       "50%     165.000000  220.000000       NaN  2.836186e+06  \n",
       "75%     172.000000  240.000000       NaN  6.500000e+06  \n",
       "max     179.000000  307.000000       NaN  2.500000e+07  "
      ]
     },
     "execution_count": 15,
     "metadata": {},
     "output_type": "execute_result"
    }
   ],
   "source": [
    "df.describe(include=\"all\")"
   ]
  },
  {
   "cell_type": "code",
   "execution_count": 45,
   "id": "d0a974d2-6195-4fcd-8264-ca0cd0767dd1",
   "metadata": {},
   "outputs": [
    {
     "data": {
      "text/plain": [
       "array(['Boston Celtics', 'Brooklyn Nets', 'New York Knicks',\n",
       "       'Philadelphia 76ers', 'Toronto Raptors', 'Golden State Warriors',\n",
       "       'Los Angeles Clippers', 'Los Angeles Lakers', 'Phoenix Suns',\n",
       "       'Sacramento Kings', 'Chicago Bulls', 'Cleveland Cavaliers',\n",
       "       'Detroit Pistons', 'Indiana Pacers', 'Milwaukee Bucks',\n",
       "       'Dallas Mavericks', 'Houston Rockets', 'Memphis Grizzlies',\n",
       "       'New Orleans Pelicans', 'San Antonio Spurs', 'Atlanta Hawks',\n",
       "       'Charlotte Hornets', 'Miami Heat', 'Orlando Magic',\n",
       "       'Washington Wizards', 'Denver Nuggets', 'Minnesota Timberwolves',\n",
       "       'Oklahoma City Thunder', 'Portland Trail Blazers', 'Utah Jazz'],\n",
       "      dtype=object)"
      ]
     },
     "execution_count": 45,
     "metadata": {},
     "output_type": "execute_result"
    }
   ],
   "source": [
    "df.Team.unique()"
   ]
  },
  {
   "cell_type": "code",
   "execution_count": 47,
   "id": "57000c17-d9b8-46ab-8e81-a96f384852f4",
   "metadata": {},
   "outputs": [
    {
     "data": {
      "text/plain": [
       "30"
      ]
     },
     "execution_count": 47,
     "metadata": {},
     "output_type": "execute_result"
    }
   ],
   "source": [
    "df.Team.nunique()"
   ]
  },
  {
   "cell_type": "markdown",
   "id": "4b7b904f-c2a8-4764-9f5c-316c49fb8111",
   "metadata": {},
   "source": [
    "#### How many are there in each Team and the percentage splitting with respect to the total employees"
   ]
  },
  {
   "cell_type": "code",
   "execution_count": 37,
   "id": "6f38714a-4bb6-4c6f-b844-dfdf384e839f",
   "metadata": {},
   "outputs": [
    {
     "data": {
      "text/plain": [
       "Team\n",
       "New Orleans Pelicans      19\n",
       "Memphis Grizzlies         18\n",
       "Utah Jazz                 16\n",
       "New York Knicks           16\n",
       "Milwaukee Bucks           16\n",
       "Brooklyn Nets             15\n",
       "Portland Trail Blazers    15\n",
       "Oklahoma City Thunder     15\n",
       "Denver Nuggets            15\n",
       "Washington Wizards        15\n",
       "Miami Heat                15\n",
       "Charlotte Hornets         15\n",
       "Atlanta Hawks             15\n",
       "San Antonio Spurs         15\n",
       "Houston Rockets           15\n",
       "Boston Celtics            15\n",
       "Indiana Pacers            15\n",
       "Detroit Pistons           15\n",
       "Cleveland Cavaliers       15\n",
       "Chicago Bulls             15\n",
       "Sacramento Kings          15\n",
       "Phoenix Suns              15\n",
       "Los Angeles Lakers        15\n",
       "Los Angeles Clippers      15\n",
       "Golden State Warriors     15\n",
       "Toronto Raptors           15\n",
       "Philadelphia 76ers        15\n",
       "Dallas Mavericks          15\n",
       "Orlando Magic             14\n",
       "Minnesota Timberwolves    14\n",
       "Name: count, dtype: int64"
      ]
     },
     "execution_count": 37,
     "metadata": {},
     "output_type": "execute_result"
    }
   ],
   "source": [
    "teams=df[\"Team\"].value_counts()\n",
    "teams"
   ]
  },
  {
   "cell_type": "markdown",
   "id": "efec6874-d558-496c-ba79-6a20e3e81013",
   "metadata": {},
   "source": [
    "#### Percentage splitting with respect to the total employees"
   ]
  },
  {
   "cell_type": "code",
   "execution_count": 19,
   "id": "326f8bb8-c5af-42bf-aaa9-fc56f41ade26",
   "metadata": {},
   "outputs": [
    {
     "name": "stdout",
     "output_type": "stream",
     "text": [
      "Percentage splitting with respect to total employees\n",
      "Team\n",
      "New Orleans Pelicans      4.148472\n",
      "Memphis Grizzlies         3.930131\n",
      "Utah Jazz                 3.493450\n",
      "New York Knicks           3.493450\n",
      "Milwaukee Bucks           3.493450\n",
      "Brooklyn Nets             3.275109\n",
      "Portland Trail Blazers    3.275109\n",
      "Oklahoma City Thunder     3.275109\n",
      "Denver Nuggets            3.275109\n",
      "Washington Wizards        3.275109\n",
      "Miami Heat                3.275109\n",
      "Charlotte Hornets         3.275109\n",
      "Atlanta Hawks             3.275109\n",
      "San Antonio Spurs         3.275109\n",
      "Houston Rockets           3.275109\n",
      "Boston Celtics            3.275109\n",
      "Indiana Pacers            3.275109\n",
      "Detroit Pistons           3.275109\n",
      "Cleveland Cavaliers       3.275109\n",
      "Chicago Bulls             3.275109\n",
      "Sacramento Kings          3.275109\n",
      "Phoenix Suns              3.275109\n",
      "Los Angeles Lakers        3.275109\n",
      "Los Angeles Clippers      3.275109\n",
      "Golden State Warriors     3.275109\n",
      "Toronto Raptors           3.275109\n",
      "Philadelphia 76ers        3.275109\n",
      "Dallas Mavericks          3.275109\n",
      "Orlando Magic             3.056769\n",
      "Minnesota Timberwolves    3.056769\n",
      "Name: count, dtype: float64\n"
     ]
    }
   ],
   "source": [
    "print(\"Percentage splitting with respect to total employees\")\n",
    "percentage_split=(teams/458)*100\n",
    "print(percentage_split)\n"
   ]
  },
  {
   "cell_type": "code",
   "execution_count": 20,
   "id": "c5f639a0-d3f3-47a5-944c-9b0bcbada6c0",
   "metadata": {},
   "outputs": [
    {
     "data": {
      "text/plain": [
       "Text(0, 0.5, 'Percentage')"
      ]
     },
     "execution_count": 20,
     "metadata": {},
     "output_type": "execute_result"
    },
    {
     "data": {
      "image/png": "[encoded data removed]",
      "text/plain": [
       "<Figure size 640x480 with 1 Axes>"
      ]
     },
     "metadata": {},
     "output_type": "display_data"
    }
   ],
   "source": [
    "percentage_split.plot(kind=\"bar\")\n",
    "plt.title(\"Percentage of employees\")\n",
    "plt.ylabel(\"Percentage\")"
   ]
  },
  {
   "cell_type": "markdown",
   "id": "1755829f-ae28-4771-a8e7-da5b77aea9f8",
   "metadata": {},
   "source": [
    "### 2.Segregate the employees w.r.t different positions."
   ]
  },
  {
   "cell_type": "code",
   "execution_count": 21,
   "id": "5a153411-53ce-4fca-b15e-59bf9c92824a",
   "metadata": {},
   "outputs": [
    {
     "data": {
      "text/plain": [
       "0      PG\n",
       "1      SF\n",
       "2      SG\n",
       "3      SG\n",
       "4      PF\n",
       "       ..\n",
       "453    PG\n",
       "454    PG\n",
       "455     C\n",
       "456     C\n",
       "457     C\n",
       "Name: Position, Length: 458, dtype: object"
      ]
     },
     "execution_count": 21,
     "metadata": {},
     "output_type": "execute_result"
    }
   ],
   "source": [
    "df[\"Position\"]"
   ]
  },
  {
   "cell_type": "code",
   "execution_count": 22,
   "id": "36228ed6-a5d5-4bda-8099-c0f172843e66",
   "metadata": {},
   "outputs": [
    {
     "data": {
      "text/plain": [
       "Position\n",
       "SG    102\n",
       "PF    100\n",
       "PG     92\n",
       "SF     85\n",
       "C      79\n",
       "Name: count, dtype: int64"
      ]
     },
     "execution_count": 22,
     "metadata": {},
     "output_type": "execute_result"
    }
   ],
   "source": [
    "df[\"Position\"].value_counts()"
   ]
  },
  {
   "cell_type": "markdown",
   "id": "a3b7be1d-36a4-4617-997a-c26ea5996cde",
   "metadata": {},
   "source": [
    "### 3.Find from which age group most of the employees belong to."
   ]
  },
  {
   "cell_type": "code",
   "execution_count": 23,
   "id": "af33063c-ab42-403d-a02d-e14d3f9d9a1f",
   "metadata": {},
   "outputs": [
    {
     "data": {
      "text/plain": [
       "0      25\n",
       "1      25\n",
       "2      27\n",
       "3      22\n",
       "4      29\n",
       "       ..\n",
       "453    26\n",
       "454    24\n",
       "455    26\n",
       "456    26\n",
       "457    25\n",
       "Name: Age, Length: 458, dtype: int64"
      ]
     },
     "execution_count": 23,
     "metadata": {},
     "output_type": "execute_result"
    }
   ],
   "source": [
    "df[\"Age\"]"
   ]
  },
  {
   "cell_type": "code",
   "execution_count": 24,
   "id": "108d74df-deee-408d-8dcf-a539d778a8f8",
   "metadata": {},
   "outputs": [
    {
     "name": "stdout",
     "output_type": "stream",
     "text": [
      "Most of the employees belong to age 24\n"
     ]
    }
   ],
   "source": [
    "age=df[\"Age\"].value_counts().idxmax()\n",
    "print(\"Most of the employees belong to age\", age)"
   ]
  },
  {
   "cell_type": "markdown",
   "id": "e5249142-9642-4dbb-8564-2979c8ee25db",
   "metadata": {},
   "source": [
    "### 4.Find out under which team and position, spending in terms of salary is high."
   ]
  },
  {
   "cell_type": "code",
   "execution_count": 25,
   "id": "68090c95-5334-4b52-8855-f10887e4a994",
   "metadata": {},
   "outputs": [
    {
     "data": {
      "text/plain": [
       "('Los Angeles Lakers', 'SF')"
      ]
     },
     "execution_count": 25,
     "metadata": {},
     "output_type": "execute_result"
    }
   ],
   "source": [
    "x=df.groupby([\"Team\",\"Position\"])[\"Salary\"].sum().idxmax()\n",
    "x"
   ]
  },
  {
   "cell_type": "markdown",
   "id": "cb47120a-db85-46de-854d-9aa958adfbae",
   "metadata": {},
   "source": [
    "### 5.Find if there is any correlation between age and salary , represent it visually."
   ]
  },
  {
   "cell_type": "code",
   "execution_count": 26,
   "id": "3c621c02-bc5d-4bd1-b141-9e57b43ad494",
   "metadata": {},
   "outputs": [
    {
     "data": {
      "text/html": [
       "<div>\n",
       "<style scoped>\n",
       "    .dataframe tbody tr th:only-of-type {\n",
       "        vertical-align: middle;\n",
       "    }\n",
       "\n",
       "    .dataframe tbody tr th {\n",
       "        vertical-align: top;\n",
       "    }\n",
       "\n",
       "    .dataframe thead th {\n",
       "        text-align: right;\n",
       "    }\n",
       "</style>\n",
       "<table border=\"1\" class=\"dataframe\">\n",
       "  <thead>\n",
       "    <tr style=\"text-align: right;\">\n",
       "      <th></th>\n",
       "      <th>Age</th>\n",
       "      <th>Salary</th>\n",
       "    </tr>\n",
       "  </thead>\n",
       "  <tbody>\n",
       "    <tr>\n",
       "      <th>Age</th>\n",
       "      <td>1.000000</td>\n",
       "      <td>0.214009</td>\n",
       "    </tr>\n",
       "    <tr>\n",
       "      <th>Salary</th>\n",
       "      <td>0.214009</td>\n",
       "      <td>1.000000</td>\n",
       "    </tr>\n",
       "  </tbody>\n",
       "</table>\n",
       "</div>"
      ],
      "text/plain": [
       "             Age    Salary\n",
       "Age     1.000000  0.214009\n",
       "Salary  0.214009  1.000000"
      ]
     },
     "execution_count": 26,
     "metadata": {},
     "output_type": "execute_result"
    }
   ],
   "source": [
    "cor=df[[\"Age\",\"Salary\"]].corr()\n",
    "cor"
   ]
  },
  {
   "cell_type": "code",
   "execution_count": 27,
   "id": "fcb59ab2-b365-401d-bc74-2e33369364ed",
   "metadata": {},
   "outputs": [
    {
     "data": {
      "image/png": "[encoded data removed]",
      "text/plain": [
       "<Figure size 640x480 with 2 Axes>"
      ]
     },
     "metadata": {},
     "output_type": "display_data"
    }
   ],
   "source": [
    "sns.heatmap(cor,annot=True,cmap=\"viridis\")\n",
    "plt.title(\"Correlation between Age and Salary\")\n",
    "plt.show()"
   ]
  },
  {
   "cell_type": "markdown",
   "id": "dfd951f4-218a-4e2a-b6ce-84f299ee4907",
   "metadata": {},
   "source": [
    "### 6. Conclusion"
   ]
  },
  {
   "cell_type": "markdown",
   "id": "bbd64e5c-7bf5-497a-a44d-c1d37a57b081",
   "metadata": {},
   "source": [
    "##### By the exploratory data analysis of the employee dataset, the number of employees in each team is found, along with the splitting of employees. The total no. of employees w.r.t position SG, PF, PG, SF and C is found out, where the highest no. of employees belong to the team SG with a number of 102. Most of the employees belong to the age 24. Salary spending is high in the team Los Angeles Lakers with position SF. The dark colour in the heatmap indicates there is a positive correlation between age and salary."
   ]
  },
  {
   "cell_type": "code",
   "execution_count": null,
   "id": "fc1912f6-160f-4287-914d-32c05afdb9c9",
   "metadata": {},
   "outputs": [],
   "source": []
  }
 ],
 "metadata": {
  "kernelspec": {
   "display_name": "Python 3 (ipykernel)",
   "language": "python",
   "name": "python3"
  },
  "language_info": {
   "codemirror_mode": {
    "name": "ipython",
    "version": 3
   },
   "file_extension": ".py",
   "mimetype": "text/x-python",
   "name": "python",
   "nbconvert_exporter": "python",
   "pygments_lexer": "ipython3",
   "version": "3.11.5"
  }
 },
 "nbformat": 4,
 "nbformat_minor": 5
}
